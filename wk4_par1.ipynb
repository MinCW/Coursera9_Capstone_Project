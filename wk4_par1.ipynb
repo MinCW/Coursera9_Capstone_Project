{
 "cells": [
  {
   "cell_type": "markdown",
   "metadata": {},
   "source": [
    "Project Title: The Beverage Battle of the Neighborhoods in London, UK"
   ]
  },
  {
   "cell_type": "markdown",
   "metadata": {},
   "source": [
    "Part I:"
   ]
  },
  {
   "cell_type": "markdown",
   "metadata": {},
   "source": [
    "INTRODUCTION:\n",
    "\n",
    "Coffee, tea, and alcohol have been an integral part of British people’s lives. The British consume 60 billion cups of tea per year, according to the Tea and Infusions Organisation. Regarding coffee, a study, named Project Café 2017 UK, conducted by the Allegra World Coffee Portal, suggested that coffee is a booming business as the total UK coffee shop market grew 6% in 2016 with an estimated 22, 845 outlets (see: https://www.morningadvertiser.co.uk/Article/2017/03/24/Coffee-shops-to-become-new-local-outnumbering-pubs-by-2030). More pubs and bars in the UK recently started selling coffee and tea in addition to alcoholic drinks in order to provide customers a wide diversity of choices. London is the top one commercial city and the most populated place in the UK. As such, it is not surprising to learn that this city has the largest number of coffee shops, cafés, pubs, and bars.\n",
    "\n",
    "\n",
    "\n",
    "Given these observations, there is a great need for coffee shops, cafés, pubs, and bars to have stable and quality supplies of beverages or/ and their ingredients. \n",
    "\n",
    "\n",
    "\n"
   ]
  },
  {
   "cell_type": "markdown",
   "metadata": {},
   "source": [
    "PROBLEM: \n",
    "\n",
    "The city is facing a problem: The beverage supplies are not reliable and less ideal. Many coffee shops, cafés, pubs, and bars in London heavily rely on suppliers located outside of the city and therefore suffer unstable and delayed supplies. This problem, however, opens a window of opportunity for the beverage supply market. A stakeholder is interested in setting up a company to supply beverages and the ingredients to the coffee shops, cafés, pubs, and bars in the city of London, but would need to investigate the most ideal location for the company.  \n"
   ]
  },
  {
   "cell_type": "code",
   "execution_count": null,
   "metadata": {},
   "outputs": [],
   "source": []
  }
 ],
 "metadata": {
  "kernelspec": {
   "display_name": "Python 3",
   "language": "python",
   "name": "python3"
  },
  "language_info": {
   "codemirror_mode": {
    "name": "ipython",
    "version": 3
   },
   "file_extension": ".py",
   "mimetype": "text/x-python",
   "name": "python",
   "nbconvert_exporter": "python",
   "pygments_lexer": "ipython3",
   "version": "3.7.0"
  }
 },
 "nbformat": 4,
 "nbformat_minor": 2
}
