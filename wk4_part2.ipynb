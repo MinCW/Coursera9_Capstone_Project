{
 "cells": [
  {
   "cell_type": "markdown",
   "metadata": {},
   "source": [
    "Project Title: The Beverage Battle of the Neighborhoods in London, UK"
   ]
  },
  {
   "cell_type": "markdown",
   "metadata": {},
   "source": [
    "Part II:"
   ]
  },
  {
   "cell_type": "markdown",
   "metadata": {},
   "source": [
    "DATA AND SOLUTION DESCRIPTIONS:\n",
    "\n",
    "First of all, I will install and import the necessary python packages, such as Beautifulsoup, wikipedia, pandas, numpy, geopy, and sklearn. Second, I will download ‘the List of areas of London’ on Wikipedia (https://en.wikipedia.org/wiki/List_of_areas_of_London) and sort the data to form the first data frame. The data frame contains data of ‘Location’, ‘Borough', 'Post town', 'PostalCode', 'Dial code', 'OS grid ref'. I will replace 'Location' with 'Neighborhod' to make it easier to understand and drop the column, 'Dial code', as it will not be used later. Next, I will convert 'OS grid ref' to latitude and longitude, create a new data frame to store the converted information, and merge this new data frame with the first one. \n",
    "\n",
    "After clearing the data, I will only focus on data in the post town, London, to ensure the business location derived later will be in the main area of London. I will then garner information about the most common venues in each neighborhood of the main London area using the Foursquare API. \n",
    "\n",
    "Subsequently, I will apply k-means clustering with k=5 to segmenting the neighborhoods based on information of the five most common venues in the respective neighborhoods. For the cluster with the highest frequency of the first three common venues being one of the following categories: coffee shop, café, pub, and bar, it will be further analyzed. Within this cluster, I will select neighborhoods showing all of the first 3 common venues being one of the aforementioned categories and present their locations using the folium package. \n",
    "\n",
    "Finally, I will use the ‘search for venues’ function in the Foursquare to identify coffee shops, cafés, pubs, and bars near the identified neighborhoods as the potential customers for this new beverage and ingredient supply company.  "
   ]
  },
  {
   "cell_type": "code",
   "execution_count": null,
   "metadata": {},
   "outputs": [],
   "source": []
  }
 ],
 "metadata": {
  "kernelspec": {
   "display_name": "Python 3",
   "language": "python",
   "name": "python3"
  },
  "language_info": {
   "codemirror_mode": {
    "name": "ipython",
    "version": 3
   },
   "file_extension": ".py",
   "mimetype": "text/x-python",
   "name": "python",
   "nbconvert_exporter": "python",
   "pygments_lexer": "ipython3",
   "version": "3.7.0"
  }
 },
 "nbformat": 4,
 "nbformat_minor": 2
}
