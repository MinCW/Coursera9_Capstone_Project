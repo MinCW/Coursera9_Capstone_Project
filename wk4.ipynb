{
 "cells": [
  {
   "cell_type": "markdown",
   "metadata": {},
   "source": [
    "Project Title: The Beverage Battle of the Neighborhoods in London, UK"
   ]
  },
  {
   "cell_type": "markdown",
   "metadata": {},
   "source": [
    "INTRODUCTION:\n",
    "\n",
    "Coffee, tea, and alcohol have been an integral part of British people’s lives. The British consume 60 billion cups of tea per year, according to the Tea and Infusions Organisation. Regarding coffee, a study, named Project Café 2017 UK, conducted by the Allegra World Coffee Portal, suggested that coffee is a booming business as the total UK coffee shop market grew 6% in 2016 with an estimated 22, 845 outlets (see: https://www.morningadvertiser.co.uk/Article/2017/03/24/Coffee-shops-to-become-new-local-outnumbering-pubs-by-2030). More pubs and bars in the UK recently started selling coffee and tea in addition to alcoholic drinks in order to provide customers a wide diversity of choices. London is the top one commercial city and the most populated place in the UK. As such, it is not surprising to learn that this city has the largest number of coffee shops, cafés, pubs, and bars.\n",
    "\n",
    "\n",
    "\n",
    "Given these observations, there is a great need for coffee shops, cafés, pubs, and bars to have stable and quality supplies of beverages or/ and their ingredients. \n",
    "\n",
    "\n",
    "\n"
   ]
  },
  {
   "cell_type": "markdown",
   "metadata": {},
   "source": [
    "PROBLEM: \n",
    "\n",
    "The city is facing a problem: The beverage supplies are not reliable and less ideal. Many coffee shops, cafés, pubs, and bars in London heavily rely on suppliers located outside of the city and therefore suffer unstable and delayed supplies. This problem, however, opens a window of opportunity for the beverage supply market. A stakeholder is interested in setting up a company to supply beverages and the ingredients to the coffee shops, cafés, pubs, and bars in the city of London, but would need to investigate the most ideal location for the company.  \n"
   ]
  },
  {
   "cell_type": "markdown",
   "metadata": {},
   "source": [
    "DATA AND SOLUTION DESCRIPTIONS:\n",
    "\n",
    "First of all, I will install and import the necessary python packages, such as Beautifulsoup, wikipedia, pandas, numpy, geopy, and sklearn. Second, I will download ‘the List of areas of London’ on Wikipedia (https://en.wikipedia.org/wiki/List_of_areas_of_London) and sort the data to form the first data frame. The data frame contains data of ‘Location’, ‘Borough', 'Post town', 'PostalCode', 'Dial code', 'OS grid ref'. I will replace 'Location' with 'Neighborhod' to make it easier to understand and drop the column, 'Dial code', as it will not be used later. Next, I will convert 'OS grid ref' to latitude and longitude, create a new data frame to store the converted information, and merge this new data frame with the first one. \n",
    "\n",
    "After clearing the data, I will only focus on data in the post town, London, to ensure the business location derived later will be in the main area of London. I will then garner information about the most common venues in each neighborhood of the main London area using the Foursquare API. \n",
    "\n",
    "Subsequently, I will apply k-means clustering with k=5 to segmenting the neighborhoods based on information of the five most common venues in the respective neighborhoods. For the cluster with the highest frequency of the first three common venues being one of the following categories: coffee shop, café, pub, and bar, it will be further analyzed. Within this cluster, I will select neighborhoods showing all of the first 3 common venues being one of the aforementioned categories and present their locations using the folium package. \n",
    "\n",
    "Finally, I will use the ‘search for venues’ function in the Foursquare to identify coffee shops, cafés, pubs, and bars near the identified neighborhoods as the potential customers for this new beverage and ingredient supply company.  "
   ]
  },
  {
   "cell_type": "code",
   "execution_count": null,
   "metadata": {},
   "outputs": [],
   "source": []
  }
 ],
 "metadata": {
  "kernelspec": {
   "display_name": "Python 3",
   "language": "python",
   "name": "python3"
  },
  "language_info": {
   "codemirror_mode": {
    "name": "ipython",
    "version": 3
   },
   "file_extension": ".py",
   "mimetype": "text/x-python",
   "name": "python",
   "nbconvert_exporter": "python",
   "pygments_lexer": "ipython3",
   "version": "3.7.0"
  }
 },
 "nbformat": 4,
 "nbformat_minor": 2
}
